{
 "cells": [
  {
   "cell_type": "markdown",
   "metadata": {},
   "source": [
    "# Workshop 2 - Manuela Mayorga Rojas\n",
    "\n",
    "# HAY QUE CAMBIAR ESTO\n",
    "\n",
    "##### This project deals with the management and visualization of a dataset. The code covers all phases of data analysis, manipulation and migration in a relational database using the Python programming language. This data will then be visually represented in a Power BI dashboard, including relevant metrics.\n",
    "\n",
    "### Objectives:\n",
    "- Migrate data from CSV file to PostgresQL database using SQLAlchemy.\n",
    "- Analyze and manipulate the data stored in the database.\n",
    "- Visualizations in Power BI"
   ]
  },
  {
   "cell_type": "markdown",
   "metadata": {},
   "source": [
    "#DATA PROCESING - HAY QUE ESPECIFICAR AQUI QUE SE HACE, DE EJEMPLO TENGO ESTO:\n",
    "This part covers operations related to data management, creation and configuration of tables in the database. From database connection and data manipulation to table creation and data loading."
   ]
  },
  {
   "cell_type": "markdown",
   "metadata": {},
   "source": [
    "The environment variables are loaded from a `.env` Processor. The main goal is to manage the configuration, and the `WORK_PATH` environment variable is used to define a working directory."
   ]
  },
  {
   "cell_type": "code",
   "execution_count": 2,
   "metadata": {},
   "outputs": [],
   "source": [
    "import sys\n",
    "import os\n",
    "from dotenv import load_dotenv\n",
    "\n",
    "load_dotenv()\n",
    "work_path = os.getenv('WORK_PATH')\n",
    "\n",
    "sys.path.append(work_path)\n"
   ]
  },
  {
   "cell_type": "markdown",
   "metadata": {},
   "source": [
    "The necessary libraries are imported for use"
   ]
  },
  {
   "cell_type": "code",
   "execution_count": 3,
   "metadata": {},
   "outputs": [],
   "source": [
    "from sqlalchemy.orm import sessionmaker\n",
    "from src.database.connection import config_loader\n",
    "from src.data_process.class_processor import Processor\n",
    "from src.models.models import Grammys\n"
   ]
  },
  {
   "cell_type": "code",
   "execution_count": 5,
   "metadata": {},
   "outputs": [
    {
     "name": "stderr",
     "output_type": "stream",
     "text": [
      "INFO:root:Connected successfully to Workshop-2 database\n"
     ]
    }
   ],
   "source": [
    "connection = config_loader()\n",
    "\n",
    "Session = sessionmaker(bind=config_loader)\n",
    "session = Session()"
   ]
  },
  {
   "cell_type": "markdown",
   "metadata": {},
   "source": [
    "A connection to a database is established using `connection` and a SQLAlchemy session is created using `sessionmaker` linked to that connection. This streamlines database operations in the program."
   ]
  },
  {
   "cell_type": "code",
   "execution_count": 6,
   "metadata": {},
   "outputs": [
    {
     "name": "stdout",
     "output_type": "stream",
     "text": [
      "Error creating table: (psycopg2.errors.DuplicateTable) la relación «grammys» ya existe\n",
      "\n",
      "[SQL: \n",
      "CREATE TABLE grammys (\n",
      "\tid SERIAL NOT NULL, \n",
      "\tyear INTEGER NOT NULL, \n",
      "\ttitle VARCHAR(100) NOT NULL, \n",
      "\tpublished_at DATE NOT NULL, \n",
      "\tupdated_at DATE NOT NULL, \n",
      "\tcategory VARCHAR(100) NOT NULL, \n",
      "\tnominee VARCHAR(100) NOT NULL, \n",
      "\tartist VARCHAR(100) NOT NULL, \n",
      "\tworkers VARCHAR(100) NOT NULL, \n",
      "\timg VARCHAR(250) NOT NULL, \n",
      "\twinner BOOLEAN NOT NULL, \n",
      "\tPRIMARY KEY (id)\n",
      ")\n",
      "\n",
      "]\n",
      "(Background on this error at: https://sqlalche.me/e/20/f405)\n"
     ]
    }
   ],
   "source": [
    "try:\n",
    "    Grammys.__table__.create(connection)\n",
    "    print(\"Table created successfully.\")\n",
    "except Exception as e:\n",
    "    print(f\"Error creating table: {e}\")"
   ]
  },
  {
   "cell_type": "markdown",
   "metadata": {},
   "source": [
    "It loads from a path and performs pre-manipulation of the data, such as renaming columns and inserting a unique identifier. It loads the data into the 'candidates' table and in case of an error reports it. Finally, the SQLAlchemy session is closed at the `finally` clause, ensuring proper resource management."
   ]
  },
  {
   "cell_type": "code",
   "execution_count": 7,
   "metadata": {},
   "outputs": [
    {
     "name": "stdout",
     "output_type": "stream",
     "text": [
      "Data uploaded\n"
     ]
    }
   ],
   "source": [
    "try:\n",
    "    data = Processor('../data/the_grammy_awards.csv')\n",
    "    data.insert_id()\n",
    "    data.df.to_sql('grammys', connection, if_exists='replace', index=False)\n",
    "    print(\"Data uploaded\")\n",
    "\n",
    "except Exception as e:\n",
    "    print(f\"Error uploading data: {e}\")\n",
    "\n",
    "finally:\n",
    "    session.close()\n"
   ]
  }
 ],
 "metadata": {
  "kernelspec": {
   "display_name": "Python 3",
   "language": "python",
   "name": "python3"
  },
  "language_info": {
   "codemirror_mode": {
    "name": "ipython",
    "version": 3
   },
   "file_extension": ".py",
   "mimetype": "text/x-python",
   "name": "python",
   "nbconvert_exporter": "python",
   "pygments_lexer": "ipython3",
   "version": "3.11.9"
  }
 },
 "nbformat": 4,
 "nbformat_minor": 2
}
